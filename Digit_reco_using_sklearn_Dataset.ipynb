{
  "nbformat": 4,
  "nbformat_minor": 0,
  "metadata": {
    "colab": {
      "name": "Digit reco using sklearn Dataset.ipynb",
      "version": "0.3.2",
      "provenance": [],
      "include_colab_link": true
    },
    "kernelspec": {
      "name": "python3",
      "display_name": "Python 3"
    }
  },
  "cells": [
    {
      "cell_type": "markdown",
      "metadata": {
        "id": "view-in-github",
        "colab_type": "text"
      },
      "source": [
        "<a href=\"https://colab.research.google.com/github/deepanshudaw/Machine-Learning/blob/master/Digit_reco_using_sklearn_Dataset.ipynb\" target=\"_parent\"><img src=\"https://colab.research.google.com/assets/colab-badge.svg\" alt=\"Open In Colab\"/></a>"
      ]
    },
    {
      "cell_type": "code",
      "metadata": {
        "id": "GeAFlwJFVwrM",
        "colab_type": "code",
        "outputId": "75e4a342-52cc-4370-e66e-24634c81ab25",
        "colab": {
          "base_uri": "https://localhost:8080/",
          "height": 34
        }
      },
      "source": [
        "from sklearn.datasets import load_digits\n",
        "digits=load_digits()\n",
        "#print(digits)\n",
        "print(digits.data.shape)"
      ],
      "execution_count": 1,
      "outputs": [
        {
          "output_type": "stream",
          "text": [
            "(1797, 64)\n"
          ],
          "name": "stdout"
        }
      ]
    },
    {
      "cell_type": "code",
      "metadata": {
        "id": "-aSowlXKbds9",
        "colab_type": "code",
        "outputId": "17d21b97-5256-4fc8-9c64-a60ec8aa82ec",
        "colab": {
          "base_uri": "https://localhost:8080/",
          "height": 292
        }
      },
      "source": [
        "import matplotlib.pyplot as plt \n",
        "plt.gray() \n",
        "plt.matshow(digits.images[7]) \n",
        "plt.show() "
      ],
      "execution_count": 2,
      "outputs": [
        {
          "output_type": "display_data",
          "data": {
            "text/plain": [
              "<Figure size 432x288 with 0 Axes>"
            ]
          },
          "metadata": {
            "tags": []
          }
        },
        {
          "output_type": "display_data",
          "data": {
            "image/png": "[encoded data removed]",
            "text/plain": [
              "<Figure size 288x288 with 1 Axes>"
            ]
          },
          "metadata": {
            "tags": []
          }
        }
      ]
    },
    {
      "cell_type": "code",
      "metadata": {
        "id": "MOpMS67rbjwU",
        "colab_type": "code",
        "colab": {}
      },
      "source": [
        "digits.target\n",
        "xts=digits.data[:-100]\n",
        "yts=digits.target[:-100]"
      ],
      "execution_count": 0,
      "outputs": []
    },
    {
      "cell_type": "code",
      "metadata": {
        "id": "Q5esnhjVcFpd",
        "colab_type": "code",
        "outputId": "1fa145f6-07a6-4d01-a545-e9c5a20dc934",
        "colab": {
          "base_uri": "https://localhost:8080/",
          "height": 84
        }
      },
      "source": [
        "from sklearn import svm\n",
        "clf=svm.SVC(gamma=0.001)\n",
        "clf.fit(xts,yts)"
      ],
      "execution_count": 0,
      "outputs": [
        {
          "output_type": "execute_result",
          "data": {
            "text/plain": [
              "SVC(C=1.0, cache_size=200, class_weight=None, coef0=0.0,\n",
              "  decision_function_shape='ovr', degree=3, gamma=0.001, kernel='rbf',\n",
              "  max_iter=-1, probability=False, random_state=None, shrinking=True,\n",
              "  tol=0.001, verbose=False)"
            ]
          },
          "metadata": {
            "tags": []
          },
          "execution_count": 98
        }
      ]
    },
    {
      "cell_type": "code",
      "metadata": {
        "id": "IwRAYo53fW7w",
        "colab_type": "code",
        "outputId": "960d4dec-1d4a-4096-e0e1-ef03fe0bdcad",
        "colab": {
          "base_uri": "https://localhost:8080/",
          "height": 84
        }
      },
      "source": [
        "clf=svm.SVC(gamma=0.001,C=.1)\n",
        "clf.fit(xts,yts)"
      ],
      "execution_count": 0,
      "outputs": [
        {
          "output_type": "execute_result",
          "data": {
            "text/plain": [
              "SVC(C=0.1, cache_size=200, class_weight=None, coef0=0.0,\n",
              "  decision_function_shape='ovr', degree=3, gamma=0.001, kernel='rbf',\n",
              "  max_iter=-1, probability=False, random_state=None, shrinking=True,\n",
              "  tol=0.001, verbose=False)"
            ]
          },
          "metadata": {
            "tags": []
          },
          "execution_count": 129
        }
      ]
    },
    {
      "cell_type": "code",
      "metadata": {
        "id": "KT3300BzcTOM",
        "colab_type": "code",
        "outputId": "9f29358f-c746-4dc6-8545-927e7a32efd3",
        "colab": {
          "base_uri": "https://localhost:8080/",
          "height": 84
        }
      },
      "source": [
        "print(digits.target[-100:])\n",
        "import numpy as np\n",
        "a=clf.predict(digits.data[-100:])\n",
        "b=a-digits.target[-100:]\n",
        "for i in range(100):\n",
        "  if b[i]!=0:\n",
        "    b[i]=1\n",
        "su=sum(b)\n",
        "print(\"Accuracy:\",100-(su/100))\n"
      ],
      "execution_count": 0,
      "outputs": [
        {
          "output_type": "stream",
          "text": [
            "[0 9 5 5 6 5 0 9 8 9 8 4 1 7 7 3 5 1 0 0 2 2 7 8 2 0 1 2 6 3 3 7 3 3 4 6 6\n",
            " 6 4 9 1 5 0 9 5 2 8 2 0 0 1 7 6 3 2 1 7 4 6 3 1 3 9 1 7 6 8 4 3 1 4 0 5 3\n",
            " 6 9 6 1 7 5 4 4 7 2 8 2 2 5 7 9 5 4 8 8 4 9 0 8 9 8]\n",
            "Accuracy: 99.94\n"
          ],
          "name": "stdout"
        }
      ]
    },
    {
      "cell_type": "code",
      "metadata": {
        "id": "lLqGemnc0F1O",
        "colab_type": "code",
        "outputId": "8218aa5a-618c-405f-9972-051d793b473e",
        "colab": {
          "base_uri": "https://localhost:8080/",
          "height": 185
        }
      },
      "source": [
        "from sklearn.metrics import confusion_matrix\n",
        "confusion_matrix(a,digits.target[-100:])"
      ],
      "execution_count": 0,
      "outputs": [
        {
          "output_type": "execute_result",
          "data": {
            "text/plain": [
              "array([[10,  0,  0,  0,  0,  0,  0,  0,  0,  0],\n",
              "       [ 0, 10,  0,  0,  0,  0,  0,  0,  0,  0],\n",
              "       [ 0,  0, 10,  0,  0,  0,  0,  0,  0,  0],\n",
              "       [ 0,  0,  0,  4,  0,  0,  0,  0,  0,  0],\n",
              "       [ 0,  0,  0,  0, 10,  0,  0,  0,  0,  0],\n",
              "       [ 0,  0,  0,  2,  0, 10,  0,  0,  0,  0],\n",
              "       [ 0,  0,  0,  0,  0,  0, 10,  0,  0,  0],\n",
              "       [ 0,  0,  0,  1,  0,  0,  0, 10,  0,  0],\n",
              "       [ 0,  0,  0,  3,  0,  0,  0,  0, 10,  0],\n",
              "       [ 0,  0,  0,  0,  0,  0,  0,  0,  0, 10]])"
            ]
          },
          "metadata": {
            "tags": []
          },
          "execution_count": 131
        }
      ]
    }
  ]
}