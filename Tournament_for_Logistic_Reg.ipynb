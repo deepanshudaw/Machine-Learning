{
  "nbformat": 4,
  "nbformat_minor": 0,
  "metadata": {
    "colab": {
      "name": "Tournament for Logistic Reg",
      "version": "0.3.2",
      "provenance": [],
      "collapsed_sections": [],
      "include_colab_link": true
    },
    "kernelspec": {
      "name": "python3",
      "display_name": "Python 3"
    },
    "accelerator": "GPU"
  },
  "cells": [
    {
      "cell_type": "markdown",
      "metadata": {
        "id": "view-in-github",
        "colab_type": "text"
      },
      "source": [
        "<a href=\"https://colab.research.google.com/github/deepanshudaw/Machine-Learning/blob/master/Tournament_for_Logistic_Reg.ipynb\" target=\"_parent\"><img src=\"https://colab.research.google.com/assets/colab-badge.svg\" alt=\"Open In Colab\"/></a>"
      ]
    },
    {
      "cell_type": "code",
      "metadata": {
        "id": "VK5KbWetL8Dz",
        "colab_type": "code",
        "colab": {}
      },
      "source": [
        "import pandas as pd                    \n",
        "import sklearn\n",
        "import numpy as np\n",
        "from sklearn.metrics import accuracy_score,confusion_matrix\n",
        "from sklearn.linear_model import LogisticRegression\n",
        "from sklearn.preprocessing import StandardScaler\n",
        "import tensorflow as tf\n",
        "import matplotlib.pyplot as plt\n",
        "from tensorflow import keras"
      ],
      "execution_count": 0,
      "outputs": []
    },
    {
      "cell_type": "code",
      "metadata": {
        "id": "5vtvNoFQgdBD",
        "colab_type": "code",
        "colab": {}
      },
      "source": [
        "mnist = keras.datasets.mnist\n",
        "(train_images, train_label), (test_images, test_label) = mnist.load_data()\n",
        "train_images = train_images / 255.0\n",
        "test_images = test_images / 255.0\n",
        "xtr = train_images.reshape(60000,784)\n",
        "xts = test_images.reshape(10000,784)"
      ],
      "execution_count": 0,
      "outputs": []
    },
    {
      "cell_type": "code",
      "metadata": {
        "id": "u4U6nEzqcNZL",
        "colab_type": "code",
        "colab": {}
      },
      "source": [
        "logisticReg=[]\n",
        "for k in range(10):\n",
        "  logisticReg.insert(k,LogisticRegression(solver = 'lbfgs',max_iter=700))"
      ],
      "execution_count": 0,
      "outputs": []
    },
    {
      "cell_type": "code",
      "metadata": {
        "id": "lcPOYPIj4x7z",
        "colab_type": "code",
        "outputId": "696f5379-644d-4d6f-ae2d-185fa7118184",
        "colab": {
          "base_uri": "https://localhost:8080/",
          "height": 353
        }
      },
      "source": [
        "from sklearn.linear_model import LogisticRegression\n",
        "for k in range(10):\n",
        "  train_label_t=np.empty([60000,])\n",
        "  for i in range(60000):\n",
        "    if train_label[i]==k:\n",
        "      train_label_t[i]=0\n",
        "    else:\n",
        "      train_label_t[i]=1\n",
        "  test_label_t=np.empty([10000,])\n",
        "  for i in range(10000):\n",
        "    if test_label[i]==k:   \n",
        "      test_label_t[i]=0\n",
        "    else:\n",
        "      test_label_t[i]=1\n",
        "  print(k,' Started!')\n",
        "  logisticReg[k].fit(xtr,train_label_t)\n",
        "  print(k,' finished!')"
      ],
      "execution_count": 32,
      "outputs": [
        {
          "output_type": "stream",
          "text": [
            "0  Started!\n",
            "0  finished!\n",
            "1  Started!\n",
            "1  finished!\n",
            "2  Started!\n",
            "2  finished!\n",
            "3  Started!\n",
            "3  finished!\n",
            "4  Started!\n",
            "4  finished!\n",
            "5  Started!\n",
            "5  finished!\n",
            "6  Started!\n",
            "6  finished!\n",
            "7  Started!\n",
            "7  finished!\n",
            "8  Started!\n",
            "8  finished!\n",
            "9  Started!\n",
            "9  finished!\n"
          ],
          "name": "stdout"
        }
      ]
    },
    {
      "cell_type": "code",
      "metadata": {
        "id": "kLSBWG1TTNJE",
        "colab_type": "code",
        "outputId": "a2295485-e245-490a-9d4b-da8ec90a66b1",
        "colab": {
          "base_uri": "https://localhost:8080/",
          "height": 185
        }
      },
      "source": [
        "for k in range(10):\n",
        "  print(logisticReg[k].predict(xts))"
      ],
      "execution_count": 33,
      "outputs": [
        {
          "output_type": "stream",
          "text": [
            "[1. 1. 1. ... 1. 1. 1.]\n",
            "[1. 1. 0. ... 1. 1. 1.]\n",
            "[1. 0. 1. ... 1. 1. 1.]\n",
            "[1. 1. 1. ... 1. 1. 1.]\n",
            "[1. 1. 1. ... 0. 1. 1.]\n",
            "[1. 1. 1. ... 1. 0. 1.]\n",
            "[1. 1. 1. ... 1. 1. 0.]\n",
            "[0. 1. 1. ... 1. 1. 1.]\n",
            "[1. 1. 1. ... 1. 1. 1.]\n",
            "[1. 1. 1. ... 1. 1. 1.]\n"
          ],
          "name": "stdout"
        }
      ]
    },
    {
      "cell_type": "code",
      "metadata": {
        "id": "uDA3w2oO55bI",
        "colab_type": "code",
        "colab": {}
      },
      "source": [
        "def findprob(index_no):\n",
        "  prob=np.empty([10])\n",
        "  for i in range(10):\n",
        "    prob[i]=(logisticReg[i].predict_proba(xts[index_no:index_no+1])[:,0])\n",
        "  mx=0\n",
        "  k=0\n",
        "  for i in range(10):\n",
        "    print(\"The chances that the digit is\",i,'is',float(prob[i]*100),'%')\n",
        "    mx=max(mx,prob[i]*100)\n",
        "    if mx==prob[i]*100:\n",
        "      k=i\n",
        "  print()\n",
        "  print(\"Classifier says the given digit is\",k)\n",
        "  print(\"with prob\",prob[k])\n",
        "  plt.imshow(x_test[index_no], cmap='Greys')\n",
        "  plt.show()\n",
        "  print(\"Actual value of the digit was\",test_label[index_no])\n",
        "  print('____________________________________________________________')\n",
        "  print()\n",
        "  "
      ],
      "execution_count": 0,
      "outputs": []
    },
    {
      "cell_type": "code",
      "metadata": {
        "id": "udAgAH4oLi62",
        "colab_type": "code",
        "outputId": "1a88baf4-f590-4433-eb81-1c2f364cae65",
        "colab": {
          "base_uri": "https://localhost:8080/",
          "height": 5225
        }
      },
      "source": [
        "for i in range(10,20):\n",
        "  findprob(i)"
      ],
      "execution_count": 35,
      "outputs": [
        {
          "output_type": "stream",
          "text": [
            "The chances that the digit is 0 is 97.47068516365638 %\n",
            "The chances that the digit is 1 is 5.7969717914829744e-08 %\n",
            "The chances that the digit is 2 is 0.5359011644256229 %\n",
            "The chances that the digit is 3 is 0.025678410100782312 %\n",
            "The chances that the digit is 4 is 0.000315951876050935 %\n",
            "The chances that the digit is 5 is 1.1590235462089815 %\n",
            "The chances that the digit is 6 is 0.002773752862306189 %\n",
            "The chances that the digit is 7 is 1.1224302487455873e-06 %\n",
            "The chances that the digit is 8 is 0.47195465790083047 %\n",
            "The chances that the digit is 9 is 0.00011583720718189028 %\n",
            "\n",
            "Classifier says the given digit is 0\n",
            "with prob 0.9747068516365638\n"
          ],
          "name": "stdout"
        },
        {
          "output_type": "display_data",
          "data": {
            "image/png": "[encoded data removed]",
            "text/plain": [
              "<Figure size 432x288 with 1 Axes>"
            ]
          },
          "metadata": {
            "tags": []
          }
        },
        {
          "output_type": "stream",
          "text": [
            "Actual value of the digit was 0\n",
            "____________________________________________________________\n",
            "\n",
            "The chances that the digit is 0 is 0.019727060407204178 %\n",
            "The chances that the digit is 1 is 0.0010492110261051124 %\n",
            "The chances that the digit is 2 is 0.22532082907208428 %\n",
            "The chances that the digit is 3 is 0.01295158319591927 %\n",
            "The chances that the digit is 4 is 0.005564437348404283 %\n",
            "The chances that the digit is 5 is 3.2108740888325826e-06 %\n",
            "The chances that the digit is 6 is 34.026985118604955 %\n",
            "The chances that the digit is 7 is 1.1377971531612019e-05 %\n",
            "The chances that the digit is 8 is 0.32611408617545523 %\n",
            "The chances that the digit is 9 is 0.0010592189819136344 %\n",
            "\n",
            "Classifier says the given digit is 6\n",
            "with prob 0.3402698511860496\n"
          ],
          "name": "stdout"
        },
        {
          "output_type": "display_data",
          "data": {
            "image/png": "[encoded data removed]",
            "text/plain": [
              "<Figure size 432x288 with 1 Axes>"
            ]
          },
          "metadata": {
            "tags": []
          }
        },
        {
          "output_type": "stream",
          "text": [
            "Actual value of the digit was 6\n",
            "____________________________________________________________\n",
            "\n",
            "The chances that the digit is 0 is 0.000734953727343779 %\n",
            "The chances that the digit is 1 is 4.6993400282246967e-07 %\n",
            "The chances that the digit is 2 is 0.0038209982945791587 %\n",
            "The chances that the digit is 3 is 0.04241147395077638 %\n",
            "The chances that the digit is 4 is 0.8606542368849057 %\n",
            "The chances that the digit is 5 is 0.07211100222311861 %\n",
            "The chances that the digit is 6 is 0.0004570925449254304 %\n",
            "The chances that the digit is 7 is 1.2625125749675115 %\n",
            "The chances that the digit is 8 is 0.08918090844958204 %\n",
            "The chances that the digit is 9 is 85.94666148085987 %\n",
            "\n",
            "Classifier says the given digit is 9\n",
            "with prob 0.8594666148085988\n"
          ],
          "name": "stdout"
        },
        {
          "output_type": "display_data",
          "data": {
            "image/png": "[encoded data removed]",
            "text/plain": [
              "<Figure size 432x288 with 1 Axes>"
            ]
          },
          "metadata": {
            "tags": []
          }
        },
        {
          "output_type": "stream",
          "text": [
            "Actual value of the digit was 9\n",
            "____________________________________________________________\n",
            "\n",
            "The chances that the digit is 0 is 99.83253536066137 %\n",
            "The chances that the digit is 1 is 6.620006764990194e-08 %\n",
            "The chances that the digit is 2 is 0.17381299522546412 %\n",
            "The chances that the digit is 3 is 0.008892208974664584 %\n",
            "The chances that the digit is 4 is 0.008974976028142123 %\n",
            "The chances that the digit is 5 is 0.25022173962782057 %\n",
            "The chances that the digit is 6 is 4.8978278821554255e-05 %\n",
            "The chances that the digit is 7 is 0.014414917400318306 %\n",
            "The chances that the digit is 8 is 3.4703875567152154 %\n",
            "The chances that the digit is 9 is 0.6231974395544015 %\n",
            "\n",
            "Classifier says the given digit is 0\n",
            "with prob 0.9983253536066137\n"
          ],
          "name": "stdout"
        },
        {
          "output_type": "display_data",
          "data": {
            "image/png": "[encoded data removed]",
            "text/plain": [
              "<Figure size 432x288 with 1 Axes>"
            ]
          },
          "metadata": {
            "tags": []
          }
        },
        {
          "output_type": "stream",
          "text": [
            "Actual value of the digit was 0\n",
            "____________________________________________________________\n",
            "\n",
            "The chances that the digit is 0 is 2.480856631237316e-07 %\n",
            "The chances that the digit is 1 is 99.83483476693023 %\n",
            "The chances that the digit is 2 is 0.46145950218380305 %\n",
            "The chances that the digit is 3 is 5.438467189132412 %\n",
            "The chances that the digit is 4 is 0.00010904853856574803 %\n",
            "The chances that the digit is 5 is 0.08359650844415034 %\n",
            "The chances that the digit is 6 is 0.07847536755019036 %\n",
            "The chances that the digit is 7 is 0.01810666338095679 %\n",
            "The chances that the digit is 8 is 0.7579214577891236 %\n",
            "The chances that the digit is 9 is 0.4970585919346626 %\n",
            "\n",
            "Classifier says the given digit is 1\n",
            "with prob 0.9983483476693022\n"
          ],
          "name": "stdout"
        },
        {
          "output_type": "display_data",
          "data": {
            "image/png": "[encoded data removed]",
            "text/plain": [
              "<Figure size 432x288 with 1 Axes>"
            ]
          },
          "metadata": {
            "tags": []
          }
        },
        {
          "output_type": "stream",
          "text": [
            "Actual value of the digit was 1\n",
            "____________________________________________________________\n",
            "\n",
            "The chances that the digit is 0 is 0.0303012932947766 %\n",
            "The chances that the digit is 1 is 0.00012189493000525076 %\n",
            "The chances that the digit is 2 is 0.0015268403466661695 %\n",
            "The chances that the digit is 3 is 9.716812888906324 %\n",
            "The chances that the digit is 4 is 0.0019919650083632945 %\n",
            "The chances that the digit is 5 is 91.79647463265357 %\n",
            "The chances that the digit is 6 is 0.006759671096001618 %\n",
            "The chances that the digit is 7 is 7.447724681419743e-06 %\n",
            "The chances that the digit is 8 is 1.818411187380553 %\n",
            "The chances that the digit is 9 is 3.1531646182969553e-07 %\n",
            "\n",
            "Classifier says the given digit is 5\n",
            "with prob 0.9179647463265357\n"
          ],
          "name": "stdout"
        },
        {
          "output_type": "display_data",
          "data": {
            "image/png": "[encoded data removed]",
            "text/plain": [
              "<Figure size 432x288 with 1 Axes>"
            ]
          },
          "metadata": {
            "tags": []
          }
        },
        {
          "output_type": "stream",
          "text": [
            "Actual value of the digit was 5\n",
            "____________________________________________________________\n",
            "\n",
            "The chances that the digit is 0 is 0.00522696802746081 %\n",
            "The chances that the digit is 1 is 1.7703616350672746e-09 %\n",
            "The chances that the digit is 2 is 0.04165634539960994 %\n",
            "The chances that the digit is 3 is 0.0017470742480596435 %\n",
            "The chances that the digit is 4 is 2.6497439728914274 %\n",
            "The chances that the digit is 5 is 0.002778290065297284 %\n",
            "The chances that the digit is 6 is 0.0028838724177582264 %\n",
            "The chances that the digit is 7 is 1.5448631492707254 %\n",
            "The chances that the digit is 8 is 0.33185478845582095 %\n",
            "The chances that the digit is 9 is 73.64157626253053 %\n",
            "\n",
            "Classifier says the given digit is 9\n",
            "with prob 0.7364157626253054\n"
          ],
          "name": "stdout"
        },
        {
          "output_type": "display_data",
          "data": {
            "image/png": "[encoded data removed]",
            "text/plain": [
              "<Figure size 432x288 with 1 Axes>"
            ]
          },
          "metadata": {
            "tags": []
          }
        },
        {
          "output_type": "stream",
          "text": [
            "Actual value of the digit was 9\n",
            "____________________________________________________________\n",
            "\n",
            "The chances that the digit is 0 is 0.020242542734916213 %\n",
            "The chances that the digit is 1 is 3.3306690738754696e-13 %\n",
            "The chances that the digit is 2 is 0.02599569293212367 %\n",
            "The chances that the digit is 3 is 13.668259947485662 %\n",
            "The chances that the digit is 4 is 0.00017359405205530365 %\n",
            "The chances that the digit is 5 is 0.0003627214169354964 %\n",
            "The chances that the digit is 6 is 2.9699249282089113e-06 %\n",
            "The chances that the digit is 7 is 99.90884156294327 %\n",
            "The chances that the digit is 8 is 0.0003568492778271981 %\n",
            "The chances that the digit is 9 is 0.0010721045930139894 %\n",
            "\n",
            "Classifier says the given digit is 7\n",
            "with prob 0.9990884156294326\n"
          ],
          "name": "stdout"
        },
        {
          "output_type": "display_data",
          "data": {
            "image/png": "[encoded data removed]",
            "text/plain": [
              "<Figure size 432x288 with 1 Axes>"
            ]
          },
          "metadata": {
            "tags": []
          }
        },
        {
          "output_type": "stream",
          "text": [
            "Actual value of the digit was 7\n",
            "____________________________________________________________\n",
            "\n",
            "The chances that the digit is 0 is 0.0001542614220140237 %\n",
            "The chances that the digit is 1 is 6.25799412290462e-08 %\n",
            "The chances that the digit is 2 is 0.06891306953590304 %\n",
            "The chances that the digit is 3 is 1.1524736965731863 %\n",
            "The chances that the digit is 4 is 0.004942638218174977 %\n",
            "The chances that the digit is 5 is 0.464495394985176 %\n",
            "The chances that the digit is 6 is 0.24060104567036333 %\n",
            "The chances that the digit is 7 is 2.5456554419989175e-06 %\n",
            "The chances that the digit is 8 is 0.07524076350355902 %\n",
            "The chances that the digit is 9 is 6.07963235310649e-08 %\n",
            "\n",
            "Classifier says the given digit is 3\n",
            "with prob 0.011524736965731863\n"
          ],
          "name": "stdout"
        },
        {
          "output_type": "display_data",
          "data": {
            "image/png": "[encoded data removed]",
            "text/plain": [
              "<Figure size 432x288 with 1 Axes>"
            ]
          },
          "metadata": {
            "tags": []
          }
        },
        {
          "output_type": "stream",
          "text": [
            "Actual value of the digit was 3\n",
            "____________________________________________________________\n",
            "\n",
            "The chances that the digit is 0 is 0.0648847343389658 %\n",
            "The chances that the digit is 1 is 0.006652771022475079 %\n",
            "The chances that the digit is 2 is 0.11629634812224676 %\n",
            "The chances that the digit is 3 is 0.39756015441261283 %\n",
            "The chances that the digit is 4 is 98.5912780368591 %\n",
            "The chances that the digit is 5 is 1.0922674271022004 %\n",
            "The chances that the digit is 6 is 0.12222029289514769 %\n",
            "The chances that the digit is 7 is 0.0675241540889937 %\n",
            "The chances that the digit is 8 is 0.1198921746724535 %\n",
            "The chances that the digit is 9 is 3.5612403060253373 %\n",
            "\n",
            "Classifier says the given digit is 4\n",
            "with prob 0.985912780368591\n"
          ],
          "name": "stdout"
        },
        {
          "output_type": "display_data",
          "data": {
            "image/png": "[encoded data removed]",
            "text/plain": [
              "<Figure size 432x288 with 1 Axes>"
            ]
          },
          "metadata": {
            "tags": []
          }
        },
        {
          "output_type": "stream",
          "text": [
            "Actual value of the digit was 4\n",
            "____________________________________________________________\n",
            "\n"
          ],
          "name": "stdout"
        }
      ]
    },
    {
      "cell_type": "code",
      "metadata": {
        "id": "q5ka3mM6bS1o",
        "colab_type": "code",
        "colab": {}
      },
      "source": [
        "predictions=[]\n",
        "for m  in range(10000):\n",
        "  prob=np.empty([10])\n",
        "  for i in range(10):\n",
        "    prob[i]=(logisticReg[i].predict_proba(xts[m:m+1])[:,0])\n",
        "  mx=0\n",
        "  k=0\n",
        "  for i in range(10):\n",
        "    mx=max(mx,prob[i]*100)\n",
        "    if mx==prob[i]*100:\n",
        "      k=i\n",
        "  predictions.insert(m,k)"
      ],
      "execution_count": 0,
      "outputs": []
    },
    {
      "cell_type": "code",
      "metadata": {
        "id": "hrI9uSyjvvhG",
        "colab_type": "code",
        "outputId": "f5e452f7-59ad-466c-a2d5-6102d15c53e1",
        "colab": {
          "base_uri": "https://localhost:8080/",
          "height": 185
        }
      },
      "source": [
        "confusion_matrix(test_label,predictions)"
      ],
      "execution_count": 37,
      "outputs": [
        {
          "output_type": "execute_result",
          "data": {
            "text/plain": [
              "array([[ 959,    0,    1,    2,    0,    5,    6,    4,    1,    2],\n",
              "       [   0, 1112,    3,    1,    0,    1,    5,    1,   12,    0],\n",
              "       [   9,    8,  920,   20,    9,    4,   10,   11,   37,    4],\n",
              "       [   4,    0,   17,  918,    2,   23,    4,   12,   21,    9],\n",
              "       [   1,    2,    5,    3,  915,    0,   10,    2,    6,   38],\n",
              "       [  10,    2,    0,   42,   10,  769,   17,    7,   28,    7],\n",
              "       [   9,    3,    7,    2,    6,   20,  907,    1,    3,    0],\n",
              "       [   2,    7,   22,    5,    8,    1,    1,  951,    5,   26],\n",
              "       [  10,   14,    5,   21,   15,   28,    8,   11,  850,   12],\n",
              "       [   8,    8,    2,   13,   31,   14,    0,   24,   12,  897]])"
            ]
          },
          "metadata": {
            "tags": []
          },
          "execution_count": 37
        }
      ]
    },
    {
      "cell_type": "code",
      "metadata": {
        "id": "CbUhDb0Fb9U2",
        "colab_type": "code",
        "outputId": "1e8a144d-e0b9-4530-da4e-05c7f63593d0",
        "colab": {
          "base_uri": "https://localhost:8080/",
          "height": 34
        }
      },
      "source": [
        "accuracy_score(predictions,test_label)\n"
      ],
      "execution_count": 38,
      "outputs": [
        {
          "output_type": "execute_result",
          "data": {
            "text/plain": [
              "0.9198"
            ]
          },
          "metadata": {
            "tags": []
          },
          "execution_count": 38
        }
      ]
    },
    {
      "cell_type": "markdown",
      "metadata": {
        "id": "jpY1BJGoL7DD",
        "colab_type": "text"
      },
      "source": [
        "#Misclassified Outcomes"
      ]
    },
    {
      "cell_type": "code",
      "metadata": {
        "id": "7n9-qK_vL5c0",
        "colab_type": "code",
        "colab": {}
      },
      "source": [
        "def findarray(index_no):\n",
        "  prob=np.empty([10])\n",
        "  for i in range(10):\n",
        "    prob[i]=(logisticReg[i].predict_proba(xts[index_no:index_no+1])[:,0])\n",
        "  mx=0\n",
        "  k=0\n",
        "  for i in range(10):\n",
        "    mx=max(mx,prob[i]*100)\n",
        "    if mx==prob[i]*100:\n",
        "      k=i\n",
        "  return k"
      ],
      "execution_count": 0,
      "outputs": []
    },
    {
      "cell_type": "code",
      "metadata": {
        "id": "jXB7cWgIMpz6",
        "colab_type": "code",
        "colab": {}
      },
      "source": [
        "predictedarray=np.empty([10000])\n",
        "for i in range(10000):\n",
        "  predictedarray[i]=findarray(i)"
      ],
      "execution_count": 0,
      "outputs": []
    },
    {
      "cell_type": "markdown",
      "metadata": {
        "id": "f8hV3HDnbEyS",
        "colab_type": "text"
      },
      "source": [
        "Number of misclassifications"
      ]
    },
    {
      "cell_type": "code",
      "metadata": {
        "id": "_QV6iErrM2v0",
        "colab_type": "code",
        "colab": {}
      },
      "source": [
        "count=0\n",
        "misclassified=[]\n",
        "for i in range(10000):\n",
        "  if(predictedarray[i]!=test_label[i]):\n",
        "    misclassified.insert(count,i)\n",
        "    count=count+1"
      ],
      "execution_count": 0,
      "outputs": []
    },
    {
      "cell_type": "markdown",
      "metadata": {
        "id": "Qxf2nxQnbA1c",
        "colab_type": "text"
      },
      "source": [
        "Only showing the misclassified images"
      ]
    },
    {
      "cell_type": "code",
      "metadata": {
        "id": "2IobFh0RSQzQ",
        "colab_type": "code",
        "outputId": "2d60a183-6a6d-4124-caa9-02124c9f23af",
        "colab": {
          "base_uri": "https://localhost:8080/",
          "height": 5225
        }
      },
      "source": [
        "for i in range(10):\n",
        "  findprob(misclassified[i])"
      ],
      "execution_count": 42,
      "outputs": [
        {
          "output_type": "stream",
          "text": [
            "The chances that the digit is 0 is 0.09686563442850016 %\n",
            "The chances that the digit is 1 is 1.5185464663503012e-06 %\n",
            "The chances that the digit is 2 is 0.0074332301528756695 %\n",
            "The chances that the digit is 3 is 2.9752489361101198e-08 %\n",
            "The chances that the digit is 4 is 4.325332947992033 %\n",
            "The chances that the digit is 5 is 1.193446015939148 %\n",
            "The chances that the digit is 6 is 84.29276980205518 %\n",
            "The chances that the digit is 7 is 7.85800313707341e-09 %\n",
            "The chances that the digit is 8 is 0.005513824109115717 %\n",
            "The chances that the digit is 9 is 0.0003324865892273543 %\n",
            "\n",
            "Classifier says the given digit is 6\n",
            "with prob 0.8429276980205518\n"
          ],
          "name": "stdout"
        },
        {
          "output_type": "display_data",
          "data": {
            "image/png": "[encoded data removed]",
            "text/plain": [
              "<Figure size 432x288 with 1 Axes>"
            ]
          },
          "metadata": {
            "tags": []
          }
        },
        {
          "output_type": "stream",
          "text": [
            "Actual value of the digit was 5\n",
            "____________________________________________________________\n",
            "\n",
            "The chances that the digit is 0 is 0.48553892225691175 %\n",
            "The chances that the digit is 1 is 0.0496546998537406 %\n",
            "The chances that the digit is 2 is 18.257712792151104 %\n",
            "The chances that the digit is 3 is 29.635114656078564 %\n",
            "The chances that the digit is 4 is 1.9040995447028308e-07 %\n",
            "The chances that the digit is 5 is 4.08671091670244 %\n",
            "The chances that the digit is 6 is 0.46832423037723725 %\n",
            "The chances that the digit is 7 is 2.412715394140008e-05 %\n",
            "The chances that the digit is 8 is 1.0833987670460954 %\n",
            "The chances that the digit is 9 is 0.014674887092003264 %\n",
            "\n",
            "Classifier says the given digit is 3\n",
            "with prob 0.29635114656078565\n"
          ],
          "name": "stdout"
        },
        {
          "output_type": "display_data",
          "data": {
            "image/png": "[encoded data removed]",
            "text/plain": [
              "<Figure size 432x288 with 1 Axes>"
            ]
          },
          "metadata": {
            "tags": []
          }
        },
        {
          "output_type": "stream",
          "text": [
            "Actual value of the digit was 2\n",
            "____________________________________________________________\n",
            "\n",
            "The chances that the digit is 0 is 0.006692498398830349 %\n",
            "The chances that the digit is 1 is 0.001512803493008974 %\n",
            "The chances that the digit is 2 is 80.86552454038387 %\n",
            "The chances that the digit is 3 is 17.126953688507417 %\n",
            "The chances that the digit is 4 is 0.0015821206966637469 %\n",
            "The chances that the digit is 5 is 0.019682395390396845 %\n",
            "The chances that the digit is 6 is 0.009743798149730587 %\n",
            "The chances that the digit is 7 is 2.1280899042963597e-06 %\n",
            "The chances that the digit is 8 is 1.37792322155742 %\n",
            "The chances that the digit is 9 is 0.059063651441815246 %\n",
            "\n",
            "Classifier says the given digit is 2\n",
            "with prob 0.8086552454038387\n"
          ],
          "name": "stdout"
        },
        {
          "output_type": "display_data",
          "data": {
            "image/png": "[encoded data removed]",
            "text/plain": [
              "<Figure size 432x288 with 1 Axes>"
            ]
          },
          "metadata": {
            "tags": []
          }
        },
        {
          "output_type": "stream",
          "text": [
            "Actual value of the digit was 3\n",
            "____________________________________________________________\n",
            "\n",
            "The chances that the digit is 0 is 4.786563023717605e-06 %\n",
            "The chances that the digit is 1 is 6.890456871744277e-07 %\n",
            "The chances that the digit is 2 is 5.646902945244392e-08 %\n",
            "The chances that the digit is 3 is 0.8791586549961039 %\n",
            "The chances that the digit is 4 is 75.62688216869932 %\n",
            "The chances that the digit is 5 is 3.264215318043995e-05 %\n",
            "The chances that the digit is 6 is 0.0011073909134795556 %\n",
            "The chances that the digit is 7 is 24.06766217922709 %\n",
            "The chances that the digit is 8 is 28.40379753322011 %\n",
            "The chances that the digit is 9 is 3.345616384120287 %\n",
            "\n",
            "Classifier says the given digit is 4\n",
            "with prob 0.7562688216869933\n"
          ],
          "name": "stdout"
        },
        {
          "output_type": "display_data",
          "data": {
            "image/png": "[encoded data removed]",
            "text/plain": [
              "<Figure size 432x288 with 1 Axes>"
            ]
          },
          "metadata": {
            "tags": []
          }
        },
        {
          "output_type": "stream",
          "text": [
            "Actual value of the digit was 7\n",
            "____________________________________________________________\n",
            "\n",
            "The chances that the digit is 0 is 0.00019800992659968486 %\n",
            "The chances that the digit is 1 is 0.13836609736447292 %\n",
            "The chances that the digit is 2 is 0.21776049530720654 %\n",
            "The chances that the digit is 3 is 0.14120021223942292 %\n",
            "The chances that the digit is 4 is 0.7504765239557343 %\n",
            "The chances that the digit is 5 is 0.2565817767334999 %\n",
            "The chances that the digit is 6 is 0.17799961857479785 %\n",
            "The chances that the digit is 7 is 0.0033892678614311222 %\n",
            "The chances that the digit is 8 is 0.07631971955955885 %\n",
            "The chances that the digit is 9 is 87.99447285961023 %\n",
            "\n",
            "Classifier says the given digit is 9\n",
            "with prob 0.8799447285961023\n"
          ],
          "name": "stdout"
        },
        {
          "output_type": "display_data",
          "data": {
            "image/png": "[encoded data removed]",
            "text/plain": [
              "<Figure size 432x288 with 1 Axes>"
            ]
          },
          "metadata": {
            "tags": []
          }
        },
        {
          "output_type": "stream",
          "text": [
            "Actual value of the digit was 2\n",
            "____________________________________________________________\n",
            "\n",
            "The chances that the digit is 0 is 0.07336658103057614 %\n",
            "The chances that the digit is 1 is 3.5367264672458987e-10 %\n",
            "The chances that the digit is 2 is 1.2771793706262136 %\n",
            "The chances that the digit is 3 is 0.6777555464303253 %\n",
            "The chances that the digit is 4 is 0.009179962506300487 %\n",
            "The chances that the digit is 5 is 0.019805501317726737 %\n",
            "The chances that the digit is 6 is 2.5570243700201445e-07 %\n",
            "The chances that the digit is 7 is 0.0022519190448044846 %\n",
            "The chances that the digit is 8 is 14.468197065242439 %\n",
            "The chances that the digit is 9 is 8.291751313676897 %\n",
            "\n",
            "Classifier says the given digit is 8\n",
            "with prob 0.14468197065242439\n"
          ],
          "name": "stdout"
        },
        {
          "output_type": "display_data",
          "data": {
            "image/png": "[encoded data removed]",
            "text/plain": [
              "<Figure size 432x288 with 1 Axes>"
            ]
          },
          "metadata": {
            "tags": []
          }
        },
        {
          "output_type": "stream",
          "text": [
            "Actual value of the digit was 9\n",
            "____________________________________________________________\n",
            "\n",
            "The chances that the digit is 0 is 2.19726459249614e-06 %\n",
            "The chances that the digit is 1 is 1.9716353238941053e-05 %\n",
            "The chances that the digit is 2 is 0.046784640231112284 %\n",
            "The chances that the digit is 3 is 20.070972431301115 %\n",
            "The chances that the digit is 4 is 7.064672312316677 %\n",
            "The chances that the digit is 5 is 0.4385848591847208 %\n",
            "The chances that the digit is 6 is 0.03528988397863975 %\n",
            "The chances that the digit is 7 is 1.2933073613846102 %\n",
            "The chances that the digit is 8 is 0.5710774254094941 %\n",
            "The chances that the digit is 9 is 9.414116515084903 %\n",
            "\n",
            "Classifier says the given digit is 3\n",
            "with prob 0.20070972431301115\n"
          ],
          "name": "stdout"
        },
        {
          "output_type": "display_data",
          "data": {
            "image/png": "[encoded data removed]",
            "text/plain": [
              "<Figure size 432x288 with 1 Axes>"
            ]
          },
          "metadata": {
            "tags": []
          }
        },
        {
          "output_type": "stream",
          "text": [
            "Actual value of the digit was 9\n",
            "____________________________________________________________\n",
            "\n",
            "The chances that the digit is 0 is 4.739627756933373e-06 %\n",
            "The chances that the digit is 1 is 1.8585809812167398 %\n",
            "The chances that the digit is 2 is 1.479186488359585 %\n",
            "The chances that the digit is 3 is 19.500214689727102 %\n",
            "The chances that the digit is 4 is 0.17783650222930047 %\n",
            "The chances that the digit is 5 is 46.9170919310092 %\n",
            "The chances that the digit is 6 is 0.3052287707594248 %\n",
            "The chances that the digit is 7 is 0.09566687721870304 %\n",
            "The chances that the digit is 8 is 3.58615309653203 %\n",
            "The chances that the digit is 9 is 1.0239011013761123 %\n",
            "\n",
            "Classifier says the given digit is 5\n",
            "with prob 0.469170919310092\n"
          ],
          "name": "stdout"
        },
        {
          "output_type": "display_data",
          "data": {
            "image/png": "[encoded data removed]",
            "text/plain": [
              "<Figure size 432x288 with 1 Axes>"
            ]
          },
          "metadata": {
            "tags": []
          }
        },
        {
          "output_type": "stream",
          "text": [
            "Actual value of the digit was 3\n",
            "____________________________________________________________\n",
            "\n",
            "The chances that the digit is 0 is 0.8050659196853993 %\n",
            "The chances that the digit is 1 is 6.212163596863718e-05 %\n",
            "The chances that the digit is 2 is 0.0009434133176222659 %\n",
            "The chances that the digit is 3 is 0.043363782107264104 %\n",
            "The chances that the digit is 4 is 0.21525440028122844 %\n",
            "The chances that the digit is 5 is 24.116335624637465 %\n",
            "The chances that the digit is 6 is 2.3998672493696915e-06 %\n",
            "The chances that the digit is 7 is 41.2270021639094 %\n",
            "The chances that the digit is 8 is 0.1193972758919637 %\n",
            "The chances that the digit is 9 is 0.7196064944915093 %\n",
            "\n",
            "Classifier says the given digit is 7\n",
            "with prob 0.412270021639094\n"
          ],
          "name": "stdout"
        },
        {
          "output_type": "display_data",
          "data": {
            "image/png": "[encoded data removed]",
            "text/plain": [
              "<Figure size 432x288 with 1 Axes>"
            ]
          },
          "metadata": {
            "tags": []
          }
        },
        {
          "output_type": "stream",
          "text": [
            "Actual value of the digit was 5\n",
            "____________________________________________________________\n",
            "\n",
            "The chances that the digit is 0 is 0.15487085724986693 %\n",
            "The chances that the digit is 1 is 0.0017032755685209011 %\n",
            "The chances that the digit is 2 is 0.002704317708168702 %\n",
            "The chances that the digit is 3 is 0.0016293699410807605 %\n",
            "The chances that the digit is 4 is 0.19231389731090287 %\n",
            "The chances that the digit is 5 is 75.0966279808369 %\n",
            "The chances that the digit is 6 is 15.251350032312928 %\n",
            "The chances that the digit is 7 is 1.58576485276285e-08 %\n",
            "The chances that the digit is 8 is 2.5327697289004414 %\n",
            "The chances that the digit is 9 is 9.482375917801988e-06 %\n",
            "\n",
            "Classifier says the given digit is 5\n",
            "with prob 0.7509662798083689\n"
          ],
          "name": "stdout"
        },
        {
          "output_type": "display_data",
          "data": {
            "image/png": "[encoded data removed]",
            "text/plain": [
              "<Figure size 432x288 with 1 Axes>"
            ]
          },
          "metadata": {
            "tags": []
          }
        },
        {
          "output_type": "stream",
          "text": [
            "Actual value of the digit was 6\n",
            "____________________________________________________________\n",
            "\n"
          ],
          "name": "stdout"
        }
      ]
    },
    {
      "cell_type": "code",
      "metadata": {
        "id": "oQY2cuHSsfdz",
        "colab_type": "code",
        "colab": {}
      },
      "source": [
        "occurance=[]\n",
        "for i in range(count):\n",
        "  occurance.insert(i,(test_label[misclassified[i]]))"
      ],
      "execution_count": 0,
      "outputs": []
    },
    {
      "cell_type": "code",
      "metadata": {
        "id": "cR5SDr_BtuFg",
        "colab_type": "code",
        "outputId": "bf300878-3bd7-4317-c3cf-c19770cf2051",
        "colab": {
          "base_uri": "https://localhost:8080/",
          "height": 185
        }
      },
      "source": [
        "for i in range(10):\n",
        "  print(\"The number of times\",i,\"was misclassified\",occurance.count(i),\"times\")"
      ],
      "execution_count": 46,
      "outputs": [
        {
          "output_type": "stream",
          "text": [
            "The number of times 0 was misclassified 21 times\n",
            "The number of times 1 was misclassified 23 times\n",
            "The number of times 2 was misclassified 112 times\n",
            "The number of times 3 was misclassified 92 times\n",
            "The number of times 4 was misclassified 67 times\n",
            "The number of times 5 was misclassified 123 times\n",
            "The number of times 6 was misclassified 51 times\n",
            "The number of times 7 was misclassified 77 times\n",
            "The number of times 8 was misclassified 124 times\n",
            "The number of times 9 was misclassified 112 times\n"
          ],
          "name": "stdout"
        }
      ]
    },
    {
      "cell_type": "markdown",
      "metadata": {
        "id": "bOJvcPSQImRr",
        "colab_type": "text"
      },
      "source": [
        "#Adversarial Check\n"
      ]
    },
    {
      "cell_type": "code",
      "metadata": {
        "id": "-hw_YPfhTZA_",
        "colab_type": "code",
        "colab": {}
      },
      "source": [
        "def binary_filtering(index_no,k):\n",
        "  zr=np.zeros([1,784])\n",
        "  for i in range(784):\n",
        "    ar[:,i]=max(zr[:,i],np.array(test_data[index_no:index_no+1])[:,i]-k)\n",
        "  return ar"
      ],
      "execution_count": 0,
      "outputs": []
    },
    {
      "cell_type": "code",
      "metadata": {
        "id": "nrwf40JOtBM7",
        "colab_type": "code",
        "colab": {
          "base_uri": "https://localhost:8080/",
          "height": 34
        },
        "outputId": "5fe70f67-c765-4956-b237-4bd4bdd9ea2f"
      },
      "source": [
        "zr=np.zeros([1,784])\n",
        "index_no=59\n",
        "max(zr[:,3],np.array(test_data[index_no:index_no+1])[:,3]-1200)"
      ],
      "execution_count": 52,
      "outputs": [
        {
          "output_type": "execute_result",
          "data": {
            "text/plain": [
              "array([0.])"
            ]
          },
          "metadata": {
            "tags": []
          },
          "execution_count": 52
        }
      ]
    },
    {
      "cell_type": "code",
      "metadata": {
        "id": "qFz-35khzzzj",
        "colab_type": "code",
        "colab": {}
      },
      "source": [
        "def binary_display(index_no,k):\n",
        "  zr=np.zeros([1,784])\n",
        "  ar=np.empty()\n",
        "  for i in range(784):\n",
        "    ar[:,i]=max(zr[:,i],np.array(test_data[index_no:index_no+1])[:,i]-k)\n",
        "  plt.imshow(ar.reshape(28,28), cmap='Greys')\n",
        "  plt.show()\n",
        "  plt.imshow(x_test[index_no], cmap='Greys')\n",
        "  plt.show()"
      ],
      "execution_count": 0,
      "outputs": []
    },
    {
      "cell_type": "code",
      "metadata": {
        "id": "-P0_fksKI465",
        "colab_type": "code",
        "outputId": "be411ce2-b89b-43a7-e7a4-661338d7a80e",
        "colab": {
          "base_uri": "https://localhost:8080/",
          "height": 279
        }
      },
      "source": [
        "binary_display(59,1200)"
      ],
      "execution_count": 49,
      "outputs": [
        {
          "output_type": "error",
          "ename": "NameError",
          "evalue": "ignored",
          "traceback": [
            "\u001b[0;31m---------------------------------------------------------------------------\u001b[0m",
            "\u001b[0;31mNameError\u001b[0m                                 Traceback (most recent call last)",
            "\u001b[0;32m<ipython-input-49-2a2078c35687>\u001b[0m in \u001b[0;36m<module>\u001b[0;34m()\u001b[0m\n\u001b[0;32m----> 1\u001b[0;31m \u001b[0mbinary_display\u001b[0m\u001b[0;34m(\u001b[0m\u001b[0;36m59\u001b[0m\u001b[0;34m,\u001b[0m\u001b[0;36m1200\u001b[0m\u001b[0;34m)\u001b[0m\u001b[0;34m\u001b[0m\u001b[0;34m\u001b[0m\u001b[0m\n\u001b[0m",
            "\u001b[0;32m<ipython-input-48-3ec6d8a62bf4>\u001b[0m in \u001b[0;36mbinary_display\u001b[0;34m(index_no, k)\u001b[0m\n\u001b[1;32m      2\u001b[0m   \u001b[0mzr\u001b[0m\u001b[0;34m=\u001b[0m\u001b[0mnp\u001b[0m\u001b[0;34m.\u001b[0m\u001b[0mzeros\u001b[0m\u001b[0;34m(\u001b[0m\u001b[0;34m[\u001b[0m\u001b[0;36m1\u001b[0m\u001b[0;34m,\u001b[0m\u001b[0;36m784\u001b[0m\u001b[0;34m]\u001b[0m\u001b[0;34m)\u001b[0m\u001b[0;34m\u001b[0m\u001b[0;34m\u001b[0m\u001b[0m\n\u001b[1;32m      3\u001b[0m   \u001b[0;32mfor\u001b[0m \u001b[0mi\u001b[0m \u001b[0;32min\u001b[0m \u001b[0mrange\u001b[0m\u001b[0;34m(\u001b[0m\u001b[0;36m784\u001b[0m\u001b[0;34m)\u001b[0m\u001b[0;34m:\u001b[0m\u001b[0;34m\u001b[0m\u001b[0;34m\u001b[0m\u001b[0m\n\u001b[0;32m----> 4\u001b[0;31m     \u001b[0mar\u001b[0m\u001b[0;34m[\u001b[0m\u001b[0;34m:\u001b[0m\u001b[0;34m,\u001b[0m\u001b[0mi\u001b[0m\u001b[0;34m]\u001b[0m\u001b[0;34m=\u001b[0m\u001b[0mmax\u001b[0m\u001b[0;34m(\u001b[0m\u001b[0mzr\u001b[0m\u001b[0;34m[\u001b[0m\u001b[0;34m:\u001b[0m\u001b[0;34m,\u001b[0m\u001b[0mi\u001b[0m\u001b[0;34m]\u001b[0m\u001b[0;34m,\u001b[0m\u001b[0mnp\u001b[0m\u001b[0;34m.\u001b[0m\u001b[0marray\u001b[0m\u001b[0;34m(\u001b[0m\u001b[0mtest_data\u001b[0m\u001b[0;34m[\u001b[0m\u001b[0mindex_no\u001b[0m\u001b[0;34m:\u001b[0m\u001b[0mindex_no\u001b[0m\u001b[0;34m+\u001b[0m\u001b[0;36m1\u001b[0m\u001b[0;34m]\u001b[0m\u001b[0;34m)\u001b[0m\u001b[0;34m[\u001b[0m\u001b[0;34m:\u001b[0m\u001b[0;34m,\u001b[0m\u001b[0mi\u001b[0m\u001b[0;34m]\u001b[0m\u001b[0;34m-\u001b[0m\u001b[0mk\u001b[0m\u001b[0;34m)\u001b[0m\u001b[0;34m\u001b[0m\u001b[0;34m\u001b[0m\u001b[0m\n\u001b[0m\u001b[1;32m      5\u001b[0m   \u001b[0mplt\u001b[0m\u001b[0;34m.\u001b[0m\u001b[0mimshow\u001b[0m\u001b[0;34m(\u001b[0m\u001b[0mar\u001b[0m\u001b[0;34m.\u001b[0m\u001b[0mreshape\u001b[0m\u001b[0;34m(\u001b[0m\u001b[0;36m28\u001b[0m\u001b[0;34m,\u001b[0m\u001b[0;36m28\u001b[0m\u001b[0;34m)\u001b[0m\u001b[0;34m,\u001b[0m \u001b[0mcmap\u001b[0m\u001b[0;34m=\u001b[0m\u001b[0;34m'Greys'\u001b[0m\u001b[0;34m)\u001b[0m\u001b[0;34m\u001b[0m\u001b[0;34m\u001b[0m\u001b[0m\n\u001b[1;32m      6\u001b[0m   \u001b[0mplt\u001b[0m\u001b[0;34m.\u001b[0m\u001b[0mshow\u001b[0m\u001b[0;34m(\u001b[0m\u001b[0;34m)\u001b[0m\u001b[0;34m\u001b[0m\u001b[0;34m\u001b[0m\u001b[0m\n",
            "\u001b[0;31mNameError\u001b[0m: name 'ar' is not defined"
          ]
        }
      ]
    },
    {
      "cell_type": "code",
      "metadata": {
        "id": "a2MJW9j-zfR-",
        "colab_type": "code",
        "colab": {}
      },
      "source": [
        "  plt.imshow(x_test[0], cmap='Greys')\n",
        "  plt.show()     "
      ],
      "execution_count": 0,
      "outputs": []
    },
    {
      "cell_type": "code",
      "metadata": {
        "id": "4053zO4OIwvk",
        "colab_type": "code",
        "colab": {}
      },
      "source": [
        "def advprob(index_no,strength):\n",
        "  prob=np.empty([10])\n",
        "  for i in range(10):\n",
        "    prob[i]=(logisticReg[i].predict_proba(binary_filtering(index_no,strength))[:,0])\n",
        "  mx=0\n",
        "  k=0\n",
        "  index = np.arange(10)\n",
        "  plt.bar(index,prob,tick_label=index)\n",
        "  plt.show()\n",
        "  for i in range(10):\n",
        "    print(\"The chances that the digit is\",i,'is',float(prob[i]*100),'%')\n",
        "    mx=max(mx,prob[i]*100)\n",
        "    if mx==prob[i]*100:\n",
        "      k=i\n",
        "  print()\n",
        "  print(\"Classifier says the given digit is\",k)\n",
        "  print(\"with prob\",prob[k])\n",
        "  binary_display(index_no,strength)     \n",
        "  print('____________________________________________________________')\n",
        "  print()\n",
        "  "
      ],
      "execution_count": 0,
      "outputs": []
    },
    {
      "cell_type": "code",
      "metadata": {
        "id": "hNGVHYGXTd54",
        "colab_type": "code",
        "colab": {}
      },
      "source": [
        "advprob(7085,230)"
      ],
      "execution_count": 0,
      "outputs": []
    }
  ]
}