{
  "nbformat": 4,
  "nbformat_minor": 0,
  "metadata": {
    "colab": {
      "name": "Tournament for Decision Trees",
      "version": "0.3.2",
      "provenance": [],
      "include_colab_link": true
    },
    "kernelspec": {
      "name": "python3",
      "display_name": "Python 3"
    },
    "accelerator": "GPU"
  },
  "cells": [
    {
      "cell_type": "markdown",
      "metadata": {
        "id": "view-in-github",
        "colab_type": "text"
      },
      "source": [
        "<a href=\"https://colab.research.google.com/github/deepanshudaw/Machine-Learning/blob/master/Decision_Trees_Tournament_MNIST.ipynb\" target=\"_parent\"><img src=\"https://colab.research.google.com/assets/colab-badge.svg\" alt=\"Open In Colab\"/></a>"
      ]
    },
    {
      "cell_type": "code",
      "metadata": {
        "id": "RbdZCe5ggmfw",
        "colab_type": "code",
        "cellView": "code",
        "colab": {}
      },
      "source": [
        "import pandas as pd                    \n",
        "import sklearn\n",
        "import numpy as np\n",
        "from sklearn.metrics import accuracy_score,confusion_matrix\n",
        "from sklearn import tree\n",
        "from sklearn.preprocessing import StandardScaler\n",
        "from tensorflow import keras"
      ],
      "execution_count": 0,
      "outputs": []
    },
    {
      "cell_type": "code",
      "metadata": {
        "id": "nJC0013xwn3P",
        "colab_type": "code",
        "colab": {}
      },
      "source": [
        "mnist = keras.datasets.mnist\n",
        "(train_images, train_label), (test_images, test_label) = mnist.load_data()\n",
        "train_images = train_images / 255.0\n",
        "test_images = test_images / 255.0\n",
        "xtr = train_images.reshape(60000,784)\n",
        "xts = test_images.reshape(10000,784)"
      ],
      "execution_count": 0,
      "outputs": []
    },
    {
      "cell_type": "code",
      "metadata": {
        "id": "u4U6nEzqcNZL",
        "colab_type": "code",
        "colab": {}
      },
      "source": [
        "DT=[]\n",
        "for k in range(10):\n",
        "  DT.insert(k,tree.DecisionTreeClassifier())"
      ],
      "execution_count": 0,
      "outputs": []
    },
    {
      "cell_type": "code",
      "metadata": {
        "id": "lcPOYPIj4x7z",
        "colab_type": "code",
        "outputId": "0774a402-f032-4199-caad-2215edf35881",
        "colab": {
          "base_uri": "https://localhost:8080/",
          "height": 353
        }
      },
      "source": [
        "for k in range(10):\n",
        "  train_label_t=np.empty([60000,])\n",
        "  for i in range(60000):\n",
        "    if train_label[i]==k:\n",
        "      train_label_t[i]=0\n",
        "    else:\n",
        "      train_label_t[i]=1\n",
        "  test_label_t=np.empty([10000,])\n",
        "  for i in range(10000):\n",
        "    if test_label[i]==k:   \n",
        "      test_label_t[i]=0\n",
        "    else:\n",
        "      test_label_t[i]=1\n",
        "  print(k,' Started!')\n",
        "  DT[k].fit(xtr,train_label_t)\n",
        "  print(k,' finished!')"
      ],
      "execution_count": 7,
      "outputs": [
        {
          "output_type": "stream",
          "text": [
            "0  Started!\n",
            "0  finished!\n",
            "1  Started!\n",
            "1  finished!\n",
            "2  Started!\n",
            "2  finished!\n",
            "3  Started!\n",
            "3  finished!\n",
            "4  Started!\n",
            "4  finished!\n",
            "5  Started!\n",
            "5  finished!\n",
            "6  Started!\n",
            "6  finished!\n",
            "7  Started!\n",
            "7  finished!\n",
            "8  Started!\n",
            "8  finished!\n",
            "9  Started!\n",
            "9  finished!\n"
          ],
          "name": "stdout"
        }
      ]
    },
    {
      "cell_type": "code",
      "metadata": {
        "id": "kLSBWG1TTNJE",
        "colab_type": "code",
        "colab": {}
      },
      "source": [
        "prediction=np.empty([10,10000])\n",
        "for k in range(10):\n",
        "  prediction[k]=(DT[k].predict(xts))"
      ],
      "execution_count": 0,
      "outputs": []
    },
    {
      "cell_type": "code",
      "metadata": {
        "id": "PCQZbR8Y190X",
        "colab_type": "code",
        "colab": {
          "base_uri": "https://localhost:8080/",
          "height": 34
        },
        "outputId": "5133d2c4-2ffc-406a-a96f-9e47ebbe222c"
      },
      "source": [
        "np.argmin(prediction[:,7])"
      ],
      "execution_count": 23,
      "outputs": [
        {
          "output_type": "execute_result",
          "data": {
            "text/plain": [
              "9"
            ]
          },
          "metadata": {
            "tags": []
          },
          "execution_count": 23
        }
      ]
    },
    {
      "cell_type": "code",
      "metadata": {
        "id": "0P1d6pynxpaG",
        "colab_type": "code",
        "colab": {}
      },
      "source": [
        "pred=np.empty([10000])\n",
        "for i in range(10000):\n",
        "  pred[i]=np.argmin(prediction[:,i])"
      ],
      "execution_count": 0,
      "outputs": []
    },
    {
      "cell_type": "code",
      "metadata": {
        "id": "qGw0TZETzYCe",
        "colab_type": "code",
        "colab": {
          "base_uri": "https://localhost:8080/",
          "height": 34
        },
        "outputId": "68f68a6c-59b7-4dcf-bfc1-3092769ace95"
      },
      "source": [
        "accuracy_score(pred,test_label)"
      ],
      "execution_count": 26,
      "outputs": [
        {
          "output_type": "execute_result",
          "data": {
            "text/plain": [
              "0.8463"
            ]
          },
          "metadata": {
            "tags": []
          },
          "execution_count": 26
        }
      ]
    },
    {
      "cell_type": "code",
      "metadata": {
        "id": "sPh-44FW3hxe",
        "colab_type": "code",
        "colab": {
          "base_uri": "https://localhost:8080/",
          "height": 185
        },
        "outputId": "97e3773b-e5ea-4fa5-f641-9c6e17469e26"
      },
      "source": [
        "confusion_matrix(pred,test_label)"
      ],
      "execution_count": 29,
      "outputs": [
        {
          "output_type": "execute_result",
          "data": {
            "text/plain": [
              "array([[ 961,   30,  114,  117,  104,   99,   61,   69,  129,  142],\n",
              "       [   0, 1091,   23,    7,    5,   11,    6,   10,   13,    3],\n",
              "       [   2,    3,  864,   18,   12,   12,   14,   14,   26,    2],\n",
              "       [   3,    3,   10,  835,    7,   43,   11,   18,   38,   18],\n",
              "       [   0,    1,    4,    0,  833,   10,   15,    4,   22,   28],\n",
              "       [   2,    1,    3,    6,    1,  704,   18,    1,   30,    9],\n",
              "       [   3,    2,    2,    1,    4,    4,  828,    0,   13,    0],\n",
              "       [   2,    0,    7,    8,    3,    3,    1,  895,    7,   30],\n",
              "       [   5,    3,    4,   13,    3,    5,    4,    4,  686,   11],\n",
              "       [   2,    1,    1,    5,   10,    1,    0,   13,   10,  766]])"
            ]
          },
          "metadata": {
            "tags": []
          },
          "execution_count": 29
        }
      ]
    }
  ]
}